{
  "nbformat": 4,
  "nbformat_minor": 0,
  "metadata": {
    "colab": {
      "provenance": [],
      "authorship_tag": "ABX9TyNZgXHk+U/OgvQvdNjp1e/U",
      "include_colab_link": true
    },
    "kernelspec": {
      "name": "python3",
      "display_name": "Python 3"
    },
    "language_info": {
      "name": "python"
    }
  },
  "cells": [
    {
      "cell_type": "markdown",
      "metadata": {
        "id": "view-in-github",
        "colab_type": "text"
      },
      "source": [
        "<a href=\"https://colab.research.google.com/github/arlanscort/disponibilidade-hidrica/blob/main/aquisicao_ana.ipynb\" target=\"_parent\"><img src=\"https://colab.research.google.com/assets/colab-badge.svg\" alt=\"Open In Colab\"/></a>"
      ]
    },
    {
      "cell_type": "code",
      "execution_count": 16,
      "metadata": {
        "id": "CZa4J5F36vPc"
      },
      "outputs": [],
      "source": [
        "import pandas as pd\n",
        "import xml.etree.ElementTree as ET\n",
        "import requests"
      ]
    },
    {
      "cell_type": "code",
      "source": [
        "url = \"http://telemetriaws1.ana.gov.br/ServiceANA.asmx/HidroInventario\"\n",
        "\n",
        "params = dict(\n",
        "    codEstDE = '',\n",
        "    codEstATE = '',\n",
        "    tpEst = '',\n",
        "    nmEst = '',\n",
        "    nmRio = '',\n",
        "    codSubBacia = '',\n",
        "    codBacia = '',\n",
        "    nmMunicipio = '',\n",
        "    nmEstado = 'Santa Catarina',\n",
        "    sgResp = '',\n",
        "    sgOper = '',\n",
        "    telemetrica = '')\n",
        "\n",
        "response = requests.get(url, params=params)"
      ],
      "metadata": {
        "id": "ZJ3o79vn620l"
      },
      "execution_count": 17,
      "outputs": []
    },
    {
      "cell_type": "code",
      "source": [
        "tree = ET.parse(response.text)"
      ],
      "metadata": {
        "colab": {
          "base_uri": "https://localhost:8080/",
          "height": 450
        },
        "id": "cZZCEeNt9eE1",
        "outputId": "6bfc79cb-f58f-4069-8737-ef6b0a9dd6ea"
      },
      "execution_count": 21,
      "outputs": [
        {
          "output_type": "error",
          "ename": "OSError",
          "evalue": "ignored",
          "traceback": [
            "\u001b[0;31m---------------------------------------------------------------------------\u001b[0m",
            "\u001b[0;31mOSError\u001b[0m                                   Traceback (most recent call last)",
            "\u001b[0;32m<ipython-input-21-60b86b207c56>\u001b[0m in \u001b[0;36m<cell line: 1>\u001b[0;34m()\u001b[0m\n\u001b[0;32m----> 1\u001b[0;31m \u001b[0mtree\u001b[0m \u001b[0;34m=\u001b[0m \u001b[0mET\u001b[0m\u001b[0;34m.\u001b[0m\u001b[0mparse\u001b[0m\u001b[0;34m(\u001b[0m\u001b[0mresponse\u001b[0m\u001b[0;34m.\u001b[0m\u001b[0mtext\u001b[0m\u001b[0;34m)\u001b[0m\u001b[0;34m\u001b[0m\u001b[0;34m\u001b[0m\u001b[0m\n\u001b[0m",
            "\u001b[0;32m/usr/lib/python3.10/xml/etree/ElementTree.py\u001b[0m in \u001b[0;36mparse\u001b[0;34m(source, parser)\u001b[0m\n\u001b[1;32m   1220\u001b[0m     \"\"\"\n\u001b[1;32m   1221\u001b[0m     \u001b[0mtree\u001b[0m \u001b[0;34m=\u001b[0m \u001b[0mElementTree\u001b[0m\u001b[0;34m(\u001b[0m\u001b[0;34m)\u001b[0m\u001b[0;34m\u001b[0m\u001b[0;34m\u001b[0m\u001b[0m\n\u001b[0;32m-> 1222\u001b[0;31m     \u001b[0mtree\u001b[0m\u001b[0;34m.\u001b[0m\u001b[0mparse\u001b[0m\u001b[0;34m(\u001b[0m\u001b[0msource\u001b[0m\u001b[0;34m,\u001b[0m \u001b[0mparser\u001b[0m\u001b[0;34m)\u001b[0m\u001b[0;34m\u001b[0m\u001b[0;34m\u001b[0m\u001b[0m\n\u001b[0m\u001b[1;32m   1223\u001b[0m     \u001b[0;32mreturn\u001b[0m \u001b[0mtree\u001b[0m\u001b[0;34m\u001b[0m\u001b[0;34m\u001b[0m\u001b[0m\n\u001b[1;32m   1224\u001b[0m \u001b[0;34m\u001b[0m\u001b[0m\n",
            "\u001b[0;32m/usr/lib/python3.10/xml/etree/ElementTree.py\u001b[0m in \u001b[0;36mparse\u001b[0;34m(self, source, parser)\u001b[0m\n\u001b[1;32m    567\u001b[0m         \u001b[0mclose_source\u001b[0m \u001b[0;34m=\u001b[0m \u001b[0;32mFalse\u001b[0m\u001b[0;34m\u001b[0m\u001b[0;34m\u001b[0m\u001b[0m\n\u001b[1;32m    568\u001b[0m         \u001b[0;32mif\u001b[0m \u001b[0;32mnot\u001b[0m \u001b[0mhasattr\u001b[0m\u001b[0;34m(\u001b[0m\u001b[0msource\u001b[0m\u001b[0;34m,\u001b[0m \u001b[0;34m\"read\"\u001b[0m\u001b[0;34m)\u001b[0m\u001b[0;34m:\u001b[0m\u001b[0;34m\u001b[0m\u001b[0;34m\u001b[0m\u001b[0m\n\u001b[0;32m--> 569\u001b[0;31m             \u001b[0msource\u001b[0m \u001b[0;34m=\u001b[0m \u001b[0mopen\u001b[0m\u001b[0;34m(\u001b[0m\u001b[0msource\u001b[0m\u001b[0;34m,\u001b[0m \u001b[0;34m\"rb\"\u001b[0m\u001b[0;34m)\u001b[0m\u001b[0;34m\u001b[0m\u001b[0;34m\u001b[0m\u001b[0m\n\u001b[0m\u001b[1;32m    570\u001b[0m             \u001b[0mclose_source\u001b[0m \u001b[0;34m=\u001b[0m \u001b[0;32mTrue\u001b[0m\u001b[0;34m\u001b[0m\u001b[0;34m\u001b[0m\u001b[0m\n\u001b[1;32m    571\u001b[0m         \u001b[0;32mtry\u001b[0m\u001b[0;34m:\u001b[0m\u001b[0;34m\u001b[0m\u001b[0;34m\u001b[0m\u001b[0m\n",
            "\u001b[0;31mOSError\u001b[0m: [Errno 36] File name too long: '<?xml version=\"1.0\" encoding=\"utf-8\"?>\\r\\n<DataSet xmlns=\"http://MRCS/\">\\r\\n  <xs:schema id=\"Estacoes\" xmlns=\"\" xmlns:xs=\"http://www.w3.org/2001/XMLSchema\" xmlns:msdata=\"urn:schemas-microsoft-com:xml-msdata\">\\r\\n    <xs:element name=\"Estacoes\" msdata:IsDataSet=\"true\" msdata:UseCurrentLocale=\"true\">\\r\\n      <xs:complexType>\\r\\n        <xs:choice minOccurs=\"0\" maxOccurs=\"unbounded\">\\r\\n          <xs:element name=\"Table\">\\r\\n            <xs:complexType>\\r\\n              <xs:sequence>\\r\\n                <xs:element name=\"BaciaCodigo\" type=\"xs:string\" minOccurs=\"0\" />\\r\\n                <xs:element name=\"SubBaciaCodigo\" type=\"xs:string\" minOccurs=\"0\" />\\r\\n                <xs:element name=\"RioCodigo\" type=\"xs:string\" minOccurs=\"0\" />\\r\\n                <xs:element name=\"RioNome\" type=\"xs:string\" minOccurs=\"0\" />\\r\\n                <xs:element name=\"EstadoCodigo\" type=\"xs:string\" minOccurs=\"0\" />\\r\\n                <xs:element name=\"nmEstado\" type=\"xs:string\" minOccurs=\"0\" />\\r\\n                <xs:element name=\"MunicipioCodigo\" type=\"xs:string\" minOccurs=\"0\" />\\r\\n                <xs:element name=\"nmMunicipio\" type=\"xs:string\" minOccurs=\"0\" />\\r\\n                <xs:element name=\"ResponsavelCodigo\" type=\"xs:string\" minOccurs=\"0\" />\\r\\n                <xs:element name=\"ResponsavelSigla\" type=\"xs:string\" minOccurs=\"0\" />\\r\\n                <xs:element name=\"ResponsavelUnidade\" type=\"xs:string\" minOccurs=\"0\" />\\r\\n              ..."
          ]
        }
      ]
    },
    {
      "cell_type": "code",
      "source": [
        "response"
      ],
      "metadata": {
        "id": "dHk6ZJ1-99u5"
      },
      "execution_count": null,
      "outputs": []
    }
  ]
}